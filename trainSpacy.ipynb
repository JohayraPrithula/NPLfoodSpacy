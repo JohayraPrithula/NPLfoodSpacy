{
 "cells": [
  {
   "cell_type": "code",
   "execution_count": 3,
   "metadata": {},
   "outputs": [],
   "source": [
    "import spacy\n",
    "from spacy.tokens import DocBin #for the file format in spacy\n",
    "from tqdm import tqdm #presenting progress with bar\n",
    "\n",
    "nlp = spacy.load(\"en_core_web_sm\") # load a new spacy model\n",
    "db = DocBin() # create a DocBin object"
   ]
  },
  {
   "cell_type": "code",
   "execution_count": 4,
   "metadata": {},
   "outputs": [],
   "source": [
    "import json\n",
    "f = open('./annotations.json')\n",
    "TRAIN_DATA = json.load(f)"
   ]
  },
  {
   "cell_type": "code",
   "execution_count": 5,
   "metadata": {},
   "outputs": [
    {
     "name": "stderr",
     "output_type": "stream",
     "text": [
      "100%|██████████| 324/324 [00:00<00:00, 4262.16it/s]"
     ]
    },
    {
     "name": "stdout",
     "output_type": "stream",
     "text": [
      "Skipping entity\n"
     ]
    },
    {
     "name": "stderr",
     "output_type": "stream",
     "text": [
      "\n"
     ]
    }
   ],
   "source": [
    "for text, annot in tqdm(TRAIN_DATA['annotations']): \n",
    "    doc = nlp.make_doc(text) \n",
    "    ents = []\n",
    "    for start, end, label in annot[\"entities\"]:\n",
    "        span = doc.char_span(start, end, label=label, alignment_mode=\"contract\")\n",
    "        if span is None:\n",
    "            print(\"Skipping entity\")\n",
    "        else:\n",
    "            ents.append(span)\n",
    "    doc.ents = ents \n",
    "    db.add(doc)\n",
    "\n",
    "db.to_disk(\"./training_data.spacy\") # save the docbin object"
   ]
  },
  {
   "cell_type": "code",
   "execution_count": 6,
   "metadata": {},
   "outputs": [
    {
     "name": "stdout",
     "output_type": "stream",
     "text": [
      "⚠ To generate a more effective transformer-based config (GPU-only), install the\n",
      "spacy-transformers package and re-run this command. The config generated now\n",
      "does not use transformers.\n",
      "ℹ Generated config template specific for your use case\n",
      "- Language: en\n",
      "- Pipeline: ner\n",
      "- Optimize for: efficiency\n",
      "- Hardware: CPU\n",
      "- Transformer: None\n",
      "✔ Auto-filled config with all values\n",
      "✔ Saved config\n",
      "config.cfg\n",
      "You can now add your data and train your pipeline:\n",
      "python -m spacy train config.cfg --paths.train ./train.spacy --paths.dev ./dev.spacy\n"
     ]
    }
   ],
   "source": [
    "! python -m spacy init config config.cfg --lang en --pipeline ner --optimize efficiency"
   ]
  },
  {
   "cell_type": "code",
   "execution_count": 7,
   "metadata": {},
   "outputs": [
    {
     "name": "stdout",
     "output_type": "stream",
     "text": [
      "ℹ Saving to output directory: .\n",
      "ℹ Using CPU\n",
      "ℹ To switch to GPU 0, use the option: --gpu-id 0\n",
      "\u001b[1m\n",
      "=========================== Initializing pipeline ===========================\u001b[0m\n",
      "✔ Initialized pipeline\n",
      "\u001b[1m\n",
      "============================= Training pipeline =============================\u001b[0m\n",
      "ℹ Pipeline: ['tok2vec', 'ner']\n",
      "ℹ Initial learn rate: 0.001\n",
      "E    #       LOSS TOK2VEC  LOSS NER  ENTS_F  ENTS_P  ENTS_R  SCORE \n",
      "---  ------  ------------  --------  ------  ------  ------  ------\n",
      "  0       0          0.00     45.90    0.00    0.00    0.00    0.00\n",
      "  2     200         72.01   2063.54   82.51   83.72   81.34    0.83\n",
      "  5     400        300.88    657.42   94.62   94.72   94.52    0.95\n",
      " 10     600        172.77    423.30   95.98   97.49   94.52    0.96\n",
      " 15     800        582.48    456.99   95.82   96.31   95.33    0.96\n",
      " 21    1000        220.48    368.10   96.32   97.11   95.54    0.96\n",
      " 28    1200        146.16    345.65   96.85   96.95   96.75    0.97\n",
      " 38    1400        186.02    350.07   97.05   97.35   96.75    0.97\n",
      " 49    1600        178.54    448.07   97.04   97.74   96.35    0.97\n",
      " 64    1800         93.30    445.73   96.93   97.93   95.94    0.97\n",
      " 81    2000        146.34    518.30   96.95   97.15   96.75    0.97\n",
      "102    2200        307.88    622.28   97.05   97.35   96.75    0.97\n",
      "126    2400         56.94    683.04   97.03   97.93   96.15    0.97\n",
      "151    2600         51.93    672.71   97.03   97.93   96.15    0.97\n",
      "176    2800         42.77    670.59   97.07   96.77   97.36    0.97\n",
      "201    3000         48.24    655.62   97.03   97.93   96.15    0.97\n",
      "226    3200         46.57    642.50   97.06   96.96   97.16    0.97\n",
      "251    3400         52.21    646.45   96.89   98.94   94.93    0.97\n",
      "276    3600         57.38    648.92   96.90   98.74   95.13    0.97\n",
      "301    3800         41.46    642.25   97.02   98.33   95.74    0.97\n",
      "326    4000         33.31    641.39   97.01   98.54   95.54    0.97\n",
      "351    4200        105.09    622.68   97.06   96.96   97.16    0.97\n",
      "376    4400        629.97    695.82   97.04   97.54   96.55    0.97\n",
      "✔ Saved pipeline to output directory\n",
      "model-last\n"
     ]
    },
    {
     "name": "stderr",
     "output_type": "stream",
     "text": [
      "[2022-06-20 20:55:51,816] [INFO] Set up nlp object from config\n",
      "[2022-06-20 20:55:51,822] [INFO] Pipeline: ['tok2vec', 'ner']\n",
      "[2022-06-20 20:55:51,824] [INFO] Created vocabulary\n",
      "[2022-06-20 20:55:51,824] [INFO] Finished initializing nlp object\n",
      "[2022-06-20 20:55:52,030] [INFO] Initialized pipeline components: ['tok2vec', 'ner']\n"
     ]
    }
   ],
   "source": [
    "! python -m spacy train config.cfg --output ./ --paths.train ./training_data.spacy --paths.dev ./training_data.spacy"
   ]
  },
  {
   "cell_type": "code",
   "execution_count": 9,
   "metadata": {},
   "outputs": [],
   "source": [
    "nlp_ner = spacy.load(\"./model-best\")"
   ]
  },
  {
   "cell_type": "code",
   "execution_count": 12,
   "metadata": {},
   "outputs": [
    {
     "name": "stderr",
     "output_type": "stream",
     "text": [
      "C:\\Users\\Johayra Prithula\\AppData\\Local\\Packages\\PythonSoftwareFoundation.Python.3.9_qbz5n2kfra8p0\\LocalCache\\local-packages\\Python39\\site-packages\\spacy\\displacy\\__init__.py:205: UserWarning: [W006] No entities to visualize found in Doc object. If this is surprising to you, make sure the Doc was processed using a model that supports named entity recognition, and check the `doc.ents` property manually if necessary.\n",
      "  warnings.warn(Warnings.W006)\n"
     ]
    },
    {
     "data": {
      "text/html": [
       "<span class=\"tex2jax_ignore\"><div class=\"entities\" style=\"line-height: 2.5; direction: ltr\">Dhaka University is a bad institution</div></span>"
      ],
      "text/plain": [
       "<IPython.core.display.HTML object>"
      ]
     },
     "metadata": {},
     "output_type": "display_data"
    }
   ],
   "source": [
    "doc = nlp_ner('''Dhaka University is a bad institution''')\n",
    "spacy.displacy.render(doc, style=\"ent\", jupyter=True) # display in Jupyter"
   ]
  }
 ],
 "metadata": {
  "kernelspec": {
   "display_name": "Python 3.9.13 64-bit (windows store)",
   "language": "python",
   "name": "python3"
  },
  "language_info": {
   "codemirror_mode": {
    "name": "ipython",
    "version": 3
   },
   "file_extension": ".py",
   "mimetype": "text/x-python",
   "name": "python",
   "nbconvert_exporter": "python",
   "pygments_lexer": "ipython3",
   "version": "3.9.13"
  },
  "orig_nbformat": 4,
  "vscode": {
   "interpreter": {
    "hash": "274052c43c725464e6a2f02e90ebca89bf5bffe249a9afa33df2460c93f5d4ea"
   }
  }
 },
 "nbformat": 4,
 "nbformat_minor": 2
}
